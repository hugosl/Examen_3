{
 "cells": [
  {
   "cell_type": "code",
   "execution_count": 53,
   "metadata": {
    "collapsed": true
   },
   "outputs": [],
   "source": [
    "from pylab import *\n",
    "%matplotlib inline\n",
    "from scipy.special import * "
   ]
  },
  {
   "cell_type": "code",
   "execution_count": 54,
   "metadata": {
    "collapsed": true
   },
   "outputs": [],
   "source": [
    "def newton(func,d_func,x_ini,err=1e-8): # raices mediante el metodo de newton\n",
    "    while abs(func(x_ini)) >= err:\n",
    "        raiz = x_ini - func(x_ini)/d_func(x_ini)\n",
    "        x_ini = raiz\n",
    "    return raiz"
   ]
  },
  {
   "cell_type": "code",
   "execution_count": 55,
   "metadata": {
    "collapsed": true
   },
   "outputs": [],
   "source": [
    "def f0(x): # funcion Bessel J0(x)\n",
    "    return jv(0,x) \n",
    "def derivada_f0(x): # funcion Bessel -J1(x)\n",
    "    return -jv(1,x) "
   ]
  },
  {
   "cell_type": "code",
   "execution_count": 56,
   "metadata": {
    "collapsed": false
   },
   "outputs": [
    {
     "name": "stdout",
     "output_type": "stream",
     "text": [
      "raiz 0 = 2.40482555704\n",
      "raiz 1 = 5.52007810267\n",
      "raiz 2 = 8.65372789805\n"
     ]
    },
    {
     "name": "stderr",
     "output_type": "stream",
     "text": [
      "/home/hugosl/anaconda2/lib/python2.7/site-packages/ipykernel/__main__.py:3: RuntimeWarning: divide by zero encountered in double_scalars\n",
      "  app.launch_new_instance()\n"
     ]
    }
   ],
   "source": [
    "j = 0 # se buscan las raices mediante el metodo de newton utilizando la derivada analitica de la funcion de Bessel\n",
    "for i in range(0,10,2): # busca de dos en dos en el intervalo para evitar que se repitan las raices\n",
    "    sol = newton(f0,derivada_f0,i)\n",
    "    if sol > 0 and sol < 10:\n",
    "        print \"raiz\",j, \"=\",sol\n",
    "        j +=1"
   ]
  },
  {
   "cell_type": "code",
   "execution_count": 57,
   "metadata": {
    "collapsed": true
   },
   "outputs": [],
   "source": [
    "def derivada(f,x): # se define la derivada numerica\n",
    "    h = 1e-5 #Un número suficientemente pequeño \n",
    "    d = (f(x + h) - f(x)) / h \n",
    "    return d "
   ]
  },
  {
   "cell_type": "code",
   "execution_count": 58,
   "metadata": {
    "collapsed": false
   },
   "outputs": [],
   "source": [
    "def d_num(x): # se define un funcion que obtiene la derivada numerica mediente el metodo de newton de la funcion\n",
    "    dn = derivada(funcion_prueba,x) # de Bessel J0(x)\n",
    "    return dn"
   ]
  },
  {
   "cell_type": "code",
   "execution_count": 59,
   "metadata": {
    "collapsed": false
   },
   "outputs": [
    {
     "name": "stdout",
     "output_type": "stream",
     "text": [
      "raiz 0 = 2.40482555716\n",
      "raiz 1 = 5.52007810293\n",
      "raiz 2 = 8.65372789834\n"
     ]
    }
   ],
   "source": [
    "j = 0 # se buscan las raices mediante el metodo de newton utilizando la derivada numerica de la funcion de Bessel\n",
    "for i in range(0,10,2): # busca de dos en dos en el intervalo para evitar que se repitan las raices\n",
    "    sol = newton(funcion_prueba,d_num,i)\n",
    "    if sol > 0 and sol < 10:\n",
    "        print \"raiz\",j, \"=\",sol\n",
    "        j +=1"
   ]
  },
  {
   "cell_type": "code",
   "execution_count": 60,
   "metadata": {
    "collapsed": false
   },
   "outputs": [
    {
     "name": "stdout",
     "output_type": "stream",
     "text": [
      "* son las raices obtenidas mediente la derivada analitica\n",
      "x son las raices obtenidas mediente la derivada numerica\n",
      "son las mismas raices las obtenidas con ambos metodos\n"
     ]
    },
    {
     "data": {
      "image/png": "[encoded data removed]",
      "text/plain": [
       "<matplotlib.figure.Figure at 0x7fa8008c52d0>"
      ]
     },
     "metadata": {},
     "output_type": "display_data"
    }
   ],
   "source": [
    "x=linspace(0,10)\n",
    "subplots(figsize=(12,8))\n",
    "xlim(0,10)\n",
    "y = jv(0,x) \n",
    "plot(x,y,'-')\n",
    "plot([2.40482555704],[0],'+',color='blue',markersize=20)\n",
    "plot([5.52007810267],[0],'+',color='blue',markersize=20)\n",
    "plot([8.65372789805],[0],'+',color='blue',markersize=20)\n",
    "plot([2.40482555716],[0],'x',color='red',markersize=20)\n",
    "plot([5.52007810293],[0],'x',color='red',markersize=20)\n",
    "plot([8.65372789834],[0],'x',color='red',markersize=20)\n",
    "grid(True)\n",
    "print \"* son las raices obtenidas mediente la derivada analitica\"\n",
    "print \"x son las raices obtenidas mediente la derivada numerica\"\n",
    "print \"son las mismas raices las obtenidas con ambos metodos\"\n",
    "show()"
   ]
  },
  {
   "cell_type": "code",
   "execution_count": null,
   "metadata": {
    "collapsed": true
   },
   "outputs": [],
   "source": []
  }
 ],
 "metadata": {
  "kernelspec": {
   "display_name": "Python [Root]",
   "language": "python",
   "name": "Python [Root]"
  },
  "language_info": {
   "codemirror_mode": {
    "name": "ipython",
    "version": 2
   },
   "file_extension": ".py",
   "mimetype": "text/x-python",
   "name": "python",
   "nbconvert_exporter": "python",
   "pygments_lexer": "ipython2",
   "version": "2.7.12"
  }
 },
 "nbformat": 4,
 "nbformat_minor": 0
}
