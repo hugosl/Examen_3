{
 "cells": [
  {
   "cell_type": "code",
   "execution_count": 1,
   "metadata": {
    "collapsed": true
   },
   "outputs": [],
   "source": [
    "from pylab import *\n",
    "%matplotlib inline"
   ]
  },
  {
   "cell_type": "code",
   "execution_count": 25,
   "metadata": {
    "collapsed": true
   },
   "outputs": [],
   "source": [
    "def newton(func,d_func,x_ini,err=1e-8): # funcion buscadora de raices por el metodo de newton\n",
    "    while abs(func(x_ini)) >= err:\n",
    "        raiz = x_ini - func(x_ini)/d_func(x_ini)\n",
    "        x_ini = raiz\n",
    "    return raiz"
   ]
  },
  {
   "cell_type": "code",
   "execution_count": 17,
   "metadata": {
    "collapsed": false
   },
   "outputs": [],
   "source": [
    "def funcion_prueba(x): #funcion prueba\n",
    "    return sin(3*x) + .5*(cos(2*x))**2\n",
    "def derivada_f(x): #derivada de la funcion prueba\n",
    "    return 3*cos(3*x)-sin(4*x)"
   ]
  },
  {
   "cell_type": "code",
   "execution_count": 43,
   "metadata": {
    "collapsed": false
   },
   "outputs": [
    {
     "name": "stdout",
     "output_type": "stream",
     "text": [
      "raiz 0 = 1.10770856122\n",
      "raiz 1 = 2.0338840922\n"
     ]
    }
   ],
   "source": [
    "j = 0\n",
    "for i in range(0,4): # rango en el que buscaremos las raices, i va de 1 en 1\n",
    "    sol = newton(funcion_prueba,derivada_f,i)\n",
    "    if sol > 0 and sol < pi: # evita que encuentre raices fuera del intevalo (0,pi)\n",
    "        print \"raiz\",j, \"=\",sol # imprime y enumera la raiz\n",
    "        j +=1\n",
    " \n",
    "        \n",
    "    "
   ]
  },
  {
   "cell_type": "code",
   "execution_count": 44,
   "metadata": {
    "collapsed": false
   },
   "outputs": [
    {
     "data": {
      "image/png": "[encoded data removed]",
      "text/plain": [
       "<matplotlib.figure.Figure at 0x7f22efb35390>"
      ]
     },
     "metadata": {},
     "output_type": "display_data"
    }
   ],
   "source": [
    "x=linspace(0,pi)\n",
    "subplots(figsize=(8,5))\n",
    "xlim(0,pi)\n",
    "plot(x,funcion_prueba(x),'-')\n",
    "plot([1.10770856122],[0],'o') # marca las raices encontradas con el metodo de newton\n",
    "plot([2.0338840922],[0],'o')\n",
    "grid(True)\n",
    "show()"
   ]
  },
  {
   "cell_type": "code",
   "execution_count": null,
   "metadata": {
    "collapsed": true
   },
   "outputs": [],
   "source": []
  }
 ],
 "metadata": {
  "kernelspec": {
   "display_name": "Python [Root]",
   "language": "python",
   "name": "Python [Root]"
  },
  "language_info": {
   "codemirror_mode": {
    "name": "ipython",
    "version": 2
   },
   "file_extension": ".py",
   "mimetype": "text/x-python",
   "name": "python",
   "nbconvert_exporter": "python",
   "pygments_lexer": "ipython2",
   "version": "2.7.12"
  }
 },
 "nbformat": 4,
 "nbformat_minor": 0
}
